{
 "cells": [
  {
   "cell_type": "code",
   "execution_count": 91,
   "metadata": {},
   "outputs": [],
   "source": [
    "import numpy as np\n",
    "import pandas as pd\n",
    "import matplotlib.pyplot as plt\n",
    "import seaborn as sns\n",
    "from sklearn.model_selection import train_test_split\n",
    "from sklearn.preprocessing import MinMaxScaler\n",
    "from sklearn.tree import DecisionTreeRegressor\n",
    "from sklearn.ensemble import RandomForestRegressor\n",
    "from sklearn.svm import SVR\n",
    "from sklearn.ensemble import GradientBoostingRegressor\n",
    "from sklearn.naive_bayes import GaussianNB\n",
    "from sklearn.metrics import mean_squared_error\n"
   ]
  },
  {
   "cell_type": "code",
   "execution_count": 53,
   "metadata": {},
   "outputs": [],
   "source": [
    "apartments= pd.read_csv(\"apartments.csv\")"
   ]
  },
  {
   "cell_type": "code",
   "execution_count": 54,
   "metadata": {},
   "outputs": [
    {
     "data": {
      "text/html": [
       "<div>\n",
       "<style scoped>\n",
       "    .dataframe tbody tr th:only-of-type {\n",
       "        vertical-align: middle;\n",
       "    }\n",
       "\n",
       "    .dataframe tbody tr th {\n",
       "        vertical-align: top;\n",
       "    }\n",
       "\n",
       "    .dataframe thead th {\n",
       "        text-align: right;\n",
       "    }\n",
       "</style>\n",
       "<table border=\"1\" class=\"dataframe\">\n",
       "  <thead>\n",
       "    <tr style=\"text-align: right;\">\n",
       "      <th></th>\n",
       "      <th>Unnamed: 0</th>\n",
       "      <th>title</th>\n",
       "      <th>location</th>\n",
       "      <th>bedrooms</th>\n",
       "      <th>bathrooms</th>\n",
       "      <th>price</th>\n",
       "      <th>rate</th>\n",
       "    </tr>\n",
       "  </thead>\n",
       "  <tbody>\n",
       "    <tr>\n",
       "      <td>0</td>\n",
       "      <td>0</td>\n",
       "      <td>3 Bedroom Apartment / Flat to rent in Riverside</td>\n",
       "      <td>Riverside Dr Nairobi, Riverside, Nairobi</td>\n",
       "      <td>3</td>\n",
       "      <td>3</td>\n",
       "      <td>200 000</td>\n",
       "      <td>Per Month</td>\n",
       "    </tr>\n",
       "    <tr>\n",
       "      <td>1</td>\n",
       "      <td>1</td>\n",
       "      <td>3 Bedroom Apartment / Flat to rent in Kileleshwa</td>\n",
       "      <td>Kileleshwa, Nairobi</td>\n",
       "      <td>3</td>\n",
       "      <td>4</td>\n",
       "      <td>70 000</td>\n",
       "      <td>Per Month</td>\n",
       "    </tr>\n",
       "    <tr>\n",
       "      <td>2</td>\n",
       "      <td>2</td>\n",
       "      <td>3 Bedroom Apartment / Flat to rent in Nyali</td>\n",
       "      <td>Links Rd Mombasa, Nyali, Mombasa</td>\n",
       "      <td>3</td>\n",
       "      <td>2</td>\n",
       "      <td>38 000</td>\n",
       "      <td>Per Month</td>\n",
       "    </tr>\n",
       "    <tr>\n",
       "      <td>3</td>\n",
       "      <td>3</td>\n",
       "      <td>3 Bedroom Apartment / Flat to rent in Lavington</td>\n",
       "      <td>Near Valley Arcade, Lavington, Nairobi</td>\n",
       "      <td>3</td>\n",
       "      <td>3</td>\n",
       "      <td>80 000</td>\n",
       "      <td>Per Month</td>\n",
       "    </tr>\n",
       "    <tr>\n",
       "      <td>4</td>\n",
       "      <td>4</td>\n",
       "      <td>1 Bedroom Apartment / Flat to rent in Kileleshwa</td>\n",
       "      <td>Kileleshwa, Nairobi</td>\n",
       "      <td>1</td>\n",
       "      <td>1</td>\n",
       "      <td>110 000</td>\n",
       "      <td>Per Month</td>\n",
       "    </tr>\n",
       "  </tbody>\n",
       "</table>\n",
       "</div>"
      ],
      "text/plain": [
       "   Unnamed: 0                                             title  \\\n",
       "0           0   3 Bedroom Apartment / Flat to rent in Riverside   \n",
       "1           1  3 Bedroom Apartment / Flat to rent in Kileleshwa   \n",
       "2           2       3 Bedroom Apartment / Flat to rent in Nyali   \n",
       "3           3   3 Bedroom Apartment / Flat to rent in Lavington   \n",
       "4           4  1 Bedroom Apartment / Flat to rent in Kileleshwa   \n",
       "\n",
       "                                   location  bedrooms  bathrooms     price  \\\n",
       "0  Riverside Dr Nairobi, Riverside, Nairobi         3          3   200 000   \n",
       "1                       Kileleshwa, Nairobi         3          4    70 000   \n",
       "2          Links Rd Mombasa, Nyali, Mombasa         3          2    38 000   \n",
       "3    Near Valley Arcade, Lavington, Nairobi         3          3    80 000   \n",
       "4                       Kileleshwa, Nairobi         1          1   110 000   \n",
       "\n",
       "        rate  \n",
       "0  Per Month  \n",
       "1  Per Month  \n",
       "2  Per Month  \n",
       "3  Per Month  \n",
       "4  Per Month  "
      ]
     },
     "execution_count": 54,
     "metadata": {},
     "output_type": "execute_result"
    }
   ],
   "source": [
    "apartments.head()"
   ]
  },
  {
   "cell_type": "code",
   "execution_count": 55,
   "metadata": {},
   "outputs": [
    {
     "name": "stdout",
     "output_type": "stream",
     "text": [
      "<class 'pandas.core.frame.DataFrame'>\n",
      "RangeIndex: 2520 entries, 0 to 2519\n",
      "Data columns (total 7 columns):\n",
      "Unnamed: 0    2520 non-null int64\n",
      "title         2520 non-null object\n",
      "location      2144 non-null object\n",
      "bedrooms      2520 non-null int64\n",
      "bathrooms     2520 non-null int64\n",
      "price         2520 non-null object\n",
      "rate          2520 non-null object\n",
      "dtypes: int64(3), object(4)\n",
      "memory usage: 137.9+ KB\n"
     ]
    }
   ],
   "source": [
    "apartments.info()"
   ]
  },
  {
   "cell_type": "code",
   "execution_count": 56,
   "metadata": {},
   "outputs": [
    {
     "data": {
      "text/html": [
       "<div>\n",
       "<style scoped>\n",
       "    .dataframe tbody tr th:only-of-type {\n",
       "        vertical-align: middle;\n",
       "    }\n",
       "\n",
       "    .dataframe tbody tr th {\n",
       "        vertical-align: top;\n",
       "    }\n",
       "\n",
       "    .dataframe thead th {\n",
       "        text-align: right;\n",
       "    }\n",
       "</style>\n",
       "<table border=\"1\" class=\"dataframe\">\n",
       "  <thead>\n",
       "    <tr style=\"text-align: right;\">\n",
       "      <th></th>\n",
       "      <th>Unnamed: 0</th>\n",
       "      <th>bedrooms</th>\n",
       "      <th>bathrooms</th>\n",
       "    </tr>\n",
       "  </thead>\n",
       "  <tbody>\n",
       "    <tr>\n",
       "      <td>count</td>\n",
       "      <td>2520.000000</td>\n",
       "      <td>2520.000000</td>\n",
       "      <td>2520.000000</td>\n",
       "    </tr>\n",
       "    <tr>\n",
       "      <td>mean</td>\n",
       "      <td>1259.500000</td>\n",
       "      <td>2.551190</td>\n",
       "      <td>2.450794</td>\n",
       "    </tr>\n",
       "    <tr>\n",
       "      <td>std</td>\n",
       "      <td>727.605662</td>\n",
       "      <td>0.922868</td>\n",
       "      <td>0.976480</td>\n",
       "    </tr>\n",
       "    <tr>\n",
       "      <td>min</td>\n",
       "      <td>0.000000</td>\n",
       "      <td>1.000000</td>\n",
       "      <td>1.000000</td>\n",
       "    </tr>\n",
       "    <tr>\n",
       "      <td>25%</td>\n",
       "      <td>629.750000</td>\n",
       "      <td>2.000000</td>\n",
       "      <td>2.000000</td>\n",
       "    </tr>\n",
       "    <tr>\n",
       "      <td>50%</td>\n",
       "      <td>1259.500000</td>\n",
       "      <td>3.000000</td>\n",
       "      <td>2.000000</td>\n",
       "    </tr>\n",
       "    <tr>\n",
       "      <td>75%</td>\n",
       "      <td>1889.250000</td>\n",
       "      <td>3.000000</td>\n",
       "      <td>3.000000</td>\n",
       "    </tr>\n",
       "    <tr>\n",
       "      <td>max</td>\n",
       "      <td>2519.000000</td>\n",
       "      <td>4.000000</td>\n",
       "      <td>5.000000</td>\n",
       "    </tr>\n",
       "  </tbody>\n",
       "</table>\n",
       "</div>"
      ],
      "text/plain": [
       "        Unnamed: 0     bedrooms    bathrooms\n",
       "count  2520.000000  2520.000000  2520.000000\n",
       "mean   1259.500000     2.551190     2.450794\n",
       "std     727.605662     0.922868     0.976480\n",
       "min       0.000000     1.000000     1.000000\n",
       "25%     629.750000     2.000000     2.000000\n",
       "50%    1259.500000     3.000000     2.000000\n",
       "75%    1889.250000     3.000000     3.000000\n",
       "max    2519.000000     4.000000     5.000000"
      ]
     },
     "execution_count": 56,
     "metadata": {},
     "output_type": "execute_result"
    }
   ],
   "source": [
    "apartments.describe()"
   ]
  },
  {
   "cell_type": "code",
   "execution_count": 57,
   "metadata": {},
   "outputs": [
    {
     "name": "stdout",
     "output_type": "stream",
     "text": [
      "Unnamed: 0    False\n",
      "title         False\n",
      "location       True\n",
      "bedrooms      False\n",
      "bathrooms     False\n",
      "price         False\n",
      "rate          False\n",
      "dtype: bool\n"
     ]
    }
   ],
   "source": [
    "print(apartments.isnull().any())"
   ]
  },
  {
   "cell_type": "code",
   "execution_count": 58,
   "metadata": {},
   "outputs": [
    {
     "name": "stdout",
     "output_type": "stream",
     "text": [
      "Unnamed: 0      0\n",
      "title           0\n",
      "location      376\n",
      "bedrooms        0\n",
      "bathrooms       0\n",
      "price           0\n",
      "rate            0\n",
      "dtype: int64\n"
     ]
    }
   ],
   "source": [
    "print(apartments.isnull().sum())"
   ]
  },
  {
   "cell_type": "code",
   "execution_count": 59,
   "metadata": {},
   "outputs": [
    {
     "data": {
      "text/plain": [
       "0              Riverside Dr Nairobi, Riverside, Nairobi\n",
       "1                                   Kileleshwa, Nairobi\n",
       "2                      Links Rd Mombasa, Nyali, Mombasa\n",
       "3                Near Valley Arcade, Lavington, Nairobi\n",
       "4                                   Kileleshwa, Nairobi\n",
       "5             Thika Rd Nairobi, Kahawa Wendani, Nairobi\n",
       "6                                     Kilimani, Nairobi\n",
       "7                                                   NaN\n",
       "8                                        Nyali, Mombasa\n",
       "9                                     Muthaiga, Nairobi\n",
       "10                                       Nyali, Mombasa\n",
       "11                                   Westlands, Nairobi\n",
       "12          Kikuyu Town Bus park Kikuyu, Kikuyu, Kikuyu\n",
       "13                                      Shanzu, Mombasa\n",
       "14               Westlands downtown, Westlands, Nairobi\n",
       "15                                                  NaN\n",
       "16              Kileleshwa Nairobi, Kileleshwa, Nairobi\n",
       "17                                    Kilimani, Nairobi\n",
       "18                                                  NaN\n",
       "19    Grevillea Grove Spring Valley, Spring Valley, ...\n",
       "Name: location, dtype: object"
      ]
     },
     "execution_count": 59,
     "metadata": {},
     "output_type": "execute_result"
    }
   ],
   "source": [
    "apartments[\"location\"].head(20)\n"
   ]
  },
  {
   "cell_type": "code",
   "execution_count": 60,
   "metadata": {},
   "outputs": [
    {
     "data": {
      "text/plain": [
       "0      200 000\n",
       "1       70 000\n",
       "2       38 000\n",
       "3       80 000\n",
       "4      110 000\n",
       "5       57 750\n",
       "6       65 000\n",
       "7       78 000\n",
       "8        5 000\n",
       "9      300 000\n",
       "10       5 000\n",
       "11     165 000\n",
       "12      55 000\n",
       "13      55 000\n",
       "14      75 000\n",
       "15      75 000\n",
       "16      55 000\n",
       "17      75 000\n",
       "18      45 000\n",
       "19      65 000\n",
       "Name: price, dtype: object"
      ]
     },
     "execution_count": 60,
     "metadata": {},
     "output_type": "execute_result"
    }
   ],
   "source": [
    "apartments[\"price\"].head(20)"
   ]
  },
  {
   "cell_type": "code",
   "execution_count": 61,
   "metadata": {},
   "outputs": [
    {
     "data": {
      "text/plain": [
       "count        2520\n",
       "unique         16\n",
       "top        55 000\n",
       "freq          382\n",
       "Name: price, dtype: object"
      ]
     },
     "execution_count": 61,
     "metadata": {},
     "output_type": "execute_result"
    }
   ],
   "source": [
    "apartments['price'].describe()"
   ]
  },
  {
   "cell_type": "code",
   "execution_count": 62,
   "metadata": {},
   "outputs": [
    {
     "data": {
      "text/plain": [
       "0       <class 'str'>\n",
       "1       <class 'str'>\n",
       "2       <class 'str'>\n",
       "3       <class 'str'>\n",
       "4       <class 'str'>\n",
       "            ...      \n",
       "2515    <class 'str'>\n",
       "2516    <class 'str'>\n",
       "2517    <class 'str'>\n",
       "2518    <class 'str'>\n",
       "2519    <class 'str'>\n",
       "Name: price, Length: 2520, dtype: object"
      ]
     },
     "execution_count": 62,
     "metadata": {},
     "output_type": "execute_result"
    }
   ],
   "source": [
    "apartments['price'].apply(type)"
   ]
  },
  {
   "cell_type": "code",
   "execution_count": 63,
   "metadata": {},
   "outputs": [],
   "source": [
    "apartments['price']= apartments['price'].str.replace(' ', '')"
   ]
  },
  {
   "cell_type": "code",
   "execution_count": 64,
   "metadata": {},
   "outputs": [
    {
     "data": {
      "text/plain": [
       "0       200000\n",
       "1        70000\n",
       "2        38000\n",
       "3        80000\n",
       "4       110000\n",
       "         ...  \n",
       "2515     75000\n",
       "2516     45000\n",
       "2517     65000\n",
       "2518    300000\n",
       "2519    100000\n",
       "Name: price, Length: 2520, dtype: object"
      ]
     },
     "execution_count": 64,
     "metadata": {},
     "output_type": "execute_result"
    }
   ],
   "source": [
    "apartments['price']"
   ]
  },
  {
   "cell_type": "code",
   "execution_count": 65,
   "metadata": {},
   "outputs": [],
   "source": [
    "apartments['price']= apartments['price'].astype('int')"
   ]
  },
  {
   "cell_type": "code",
   "execution_count": 66,
   "metadata": {},
   "outputs": [
    {
     "data": {
      "text/html": [
       "<div>\n",
       "<style scoped>\n",
       "    .dataframe tbody tr th:only-of-type {\n",
       "        vertical-align: middle;\n",
       "    }\n",
       "\n",
       "    .dataframe tbody tr th {\n",
       "        vertical-align: top;\n",
       "    }\n",
       "\n",
       "    .dataframe thead th {\n",
       "        text-align: right;\n",
       "    }\n",
       "</style>\n",
       "<table border=\"1\" class=\"dataframe\">\n",
       "  <thead>\n",
       "    <tr style=\"text-align: right;\">\n",
       "      <th></th>\n",
       "      <th>Unnamed: 0</th>\n",
       "      <th>bedrooms</th>\n",
       "      <th>bathrooms</th>\n",
       "      <th>price</th>\n",
       "    </tr>\n",
       "  </thead>\n",
       "  <tbody>\n",
       "    <tr>\n",
       "      <td>count</td>\n",
       "      <td>2520.000000</td>\n",
       "      <td>2520.000000</td>\n",
       "      <td>2520.000000</td>\n",
       "      <td>2520.000000</td>\n",
       "    </tr>\n",
       "    <tr>\n",
       "      <td>mean</td>\n",
       "      <td>1259.500000</td>\n",
       "      <td>2.551190</td>\n",
       "      <td>2.450794</td>\n",
       "      <td>89274.900794</td>\n",
       "    </tr>\n",
       "    <tr>\n",
       "      <td>std</td>\n",
       "      <td>727.605662</td>\n",
       "      <td>0.922868</td>\n",
       "      <td>0.976480</td>\n",
       "      <td>63943.997415</td>\n",
       "    </tr>\n",
       "    <tr>\n",
       "      <td>min</td>\n",
       "      <td>0.000000</td>\n",
       "      <td>1.000000</td>\n",
       "      <td>1.000000</td>\n",
       "      <td>5000.000000</td>\n",
       "    </tr>\n",
       "    <tr>\n",
       "      <td>25%</td>\n",
       "      <td>629.750000</td>\n",
       "      <td>2.000000</td>\n",
       "      <td>2.000000</td>\n",
       "      <td>55000.000000</td>\n",
       "    </tr>\n",
       "    <tr>\n",
       "      <td>50%</td>\n",
       "      <td>1259.500000</td>\n",
       "      <td>3.000000</td>\n",
       "      <td>2.000000</td>\n",
       "      <td>70000.000000</td>\n",
       "    </tr>\n",
       "    <tr>\n",
       "      <td>75%</td>\n",
       "      <td>1889.250000</td>\n",
       "      <td>3.000000</td>\n",
       "      <td>3.000000</td>\n",
       "      <td>100000.000000</td>\n",
       "    </tr>\n",
       "    <tr>\n",
       "      <td>max</td>\n",
       "      <td>2519.000000</td>\n",
       "      <td>4.000000</td>\n",
       "      <td>5.000000</td>\n",
       "      <td>300000.000000</td>\n",
       "    </tr>\n",
       "  </tbody>\n",
       "</table>\n",
       "</div>"
      ],
      "text/plain": [
       "        Unnamed: 0     bedrooms    bathrooms          price\n",
       "count  2520.000000  2520.000000  2520.000000    2520.000000\n",
       "mean   1259.500000     2.551190     2.450794   89274.900794\n",
       "std     727.605662     0.922868     0.976480   63943.997415\n",
       "min       0.000000     1.000000     1.000000    5000.000000\n",
       "25%     629.750000     2.000000     2.000000   55000.000000\n",
       "50%    1259.500000     3.000000     2.000000   70000.000000\n",
       "75%    1889.250000     3.000000     3.000000  100000.000000\n",
       "max    2519.000000     4.000000     5.000000  300000.000000"
      ]
     },
     "execution_count": 66,
     "metadata": {},
     "output_type": "execute_result"
    }
   ],
   "source": [
    "apartments.describe()"
   ]
  },
  {
   "cell_type": "code",
   "execution_count": 67,
   "metadata": {},
   "outputs": [
    {
     "data": {
      "text/plain": [
       "<seaborn.axisgrid.PairGrid at 0x1b7e2386d48>"
      ]
     },
     "execution_count": 67,
     "metadata": {},
     "output_type": "execute_result"
    },
    {
     "data": {
      "image/png": "[encoded data removed]",
      "text/plain": [
       "<Figure size 720x720 with 20 Axes>"
      ]
     },
     "metadata": {
      "needs_background": "light"
     },
     "output_type": "display_data"
    }
   ],
   "source": [
    "sns.pairplot(apartments)"
   ]
  },
  {
   "cell_type": "code",
   "execution_count": 17,
   "metadata": {},
   "outputs": [
    {
     "data": {
      "image/png": "[encoded data removed]",
      "text/plain": [
       "<Figure size 864x648 with 2 Axes>"
      ]
     },
     "metadata": {
      "needs_background": "light"
     },
     "output_type": "display_data"
    }
   ],
   "source": [
    "corrmat = apartments.corr()\n",
    "f, ax = plt.subplots(figsize=(12, 9))\n",
    "sns.heatmap(corrmat, vmax=.8, square=True);"
   ]
  },
  {
   "cell_type": "code",
   "execution_count": 71,
   "metadata": {},
   "outputs": [
    {
     "data": {
      "text/plain": [
       "<matplotlib.collections.PathCollection at 0x1b7e3ca3708>"
      ]
     },
     "execution_count": 71,
     "metadata": {},
     "output_type": "execute_result"
    },
    {
     "data": {
      "image/png": "[encoded data removed]",
      "text/plain": [
       "<Figure size 432x288 with 1 Axes>"
      ]
     },
     "metadata": {
      "needs_background": "light"
     },
     "output_type": "display_data"
    }
   ],
   "source": [
    "x= apartments['price']\n",
    "y= apartments['location']\n",
    "plt.scatter(x,y)"
   ]
  },
  {
   "cell_type": "code",
   "execution_count": 69,
   "metadata": {},
   "outputs": [],
   "source": [
    "apartments.location = apartments.location.fillna('Unknown')"
   ]
  },
  {
   "cell_type": "code",
   "execution_count": 70,
   "metadata": {},
   "outputs": [
    {
     "data": {
      "text/plain": [
       "0              Riverside Dr Nairobi, Riverside, Nairobi\n",
       "1                                   Kileleshwa, Nairobi\n",
       "2                      Links Rd Mombasa, Nyali, Mombasa\n",
       "3                Near Valley Arcade, Lavington, Nairobi\n",
       "4                                   Kileleshwa, Nairobi\n",
       "5             Thika Rd Nairobi, Kahawa Wendani, Nairobi\n",
       "6                                     Kilimani, Nairobi\n",
       "7                                               Unknown\n",
       "8                                        Nyali, Mombasa\n",
       "9                                     Muthaiga, Nairobi\n",
       "10                                       Nyali, Mombasa\n",
       "11                                   Westlands, Nairobi\n",
       "12          Kikuyu Town Bus park Kikuyu, Kikuyu, Kikuyu\n",
       "13                                      Shanzu, Mombasa\n",
       "14               Westlands downtown, Westlands, Nairobi\n",
       "15                                              Unknown\n",
       "16              Kileleshwa Nairobi, Kileleshwa, Nairobi\n",
       "17                                    Kilimani, Nairobi\n",
       "18                                              Unknown\n",
       "19    Grevillea Grove Spring Valley, Spring Valley, ...\n",
       "Name: location, dtype: object"
      ]
     },
     "execution_count": 70,
     "metadata": {},
     "output_type": "execute_result"
    }
   ],
   "source": [
    "apartments.location.head(20)"
   ]
  },
  {
   "cell_type": "code",
   "execution_count": 72,
   "metadata": {},
   "outputs": [
    {
     "data": {
      "text/plain": [
       "location\n",
       "Grevillea Grove Spring Valley, Spring Valley, Nairobi    125\n",
       "Jabavu court, Kilimani, Nairobi                           12\n",
       "Kikuyu Town Bus park Kikuyu, Kikuyu, Kikuyu              128\n",
       "Kileleshwa Nairobi, Kileleshwa, Nairobi                  125\n",
       "Kileleshwa, Nairobi                                      257\n",
       "Kilimani, Nairobi                                        251\n",
       "Links Rd Mombasa, Nyali, Mombasa                         126\n",
       "Muthaiga, Nairobi                                        126\n",
       "Near Valley Arcade, Lavington, Nairobi                    35\n",
       "Nyali, Mombasa                                           125\n",
       "Off Othaya road, Lavington, Nairobi                       20\n",
       "Riverside Dr Nairobi, Riverside, Nairobi                 125\n",
       "Shanzu, Mombasa                                          129\n",
       "Thika Rd Nairobi, Kahawa Wendani, Nairobi                125\n",
       "Unknown                                                  376\n",
       "Vihiga road, Kileleshwa, Nairobi                          56\n",
       "Westlands downtown, Westlands, Nairobi                   127\n",
       "Westlands, Nairobi                                       252\n",
       "dtype: int64"
      ]
     },
     "execution_count": 72,
     "metadata": {},
     "output_type": "execute_result"
    }
   ],
   "source": [
    "apartments.groupby('location').size()"
   ]
  },
  {
   "cell_type": "code",
   "execution_count": 73,
   "metadata": {},
   "outputs": [],
   "source": [
    "location_dictionary= { \n",
    "    'Grevillea Grove Spring Valley, Spring Valley, Nairobi': 1,\n",
    "'Jabavu court, Kilimani, Nairobi':2,                           \n",
    "'Kikuyu Town Bus park Kikuyu, Kikuyu, Kikuyu':3,             \n",
    "'Kileleshwa Nairobi, Kileleshwa, Nairobi':4,                  \n",
    "'Kileleshwa, Nairobi':5,                                      \n",
    "'Kilimani, Nairobi':6,                                        \n",
    "'Links Rd Mombasa, Nyali, Mombasa':7,                       \n",
    "'Muthaiga, Nairobi':8,                                        \n",
    "'Near Valley Arcade, Lavington, Nairobi':9,                    \n",
    "'Nyali, Mombasa':10,                                          \n",
    "'Off Othaya road, Lavington, Nairobi':11,                       \n",
    "'Riverside Dr Nairobi, Riverside, Nairobi':12,                 \n",
    "'Shanzu, Mombasa':13,                                         \n",
    "'Thika Rd Nairobi, Kahawa Wendani, Nairobi':14,               \n",
    "'Unknown':15,                                                  \n",
    "'Vihiga road, Kileleshwa, Nairobi':16,                          \n",
    "'Westlands downtown, Westlands, Nairobi':17,                   \n",
    "'Westlands, Nairobi':18                      \n",
    "}\n",
    "\n",
    "apartments=apartments.replace({'location':location_dictionary})"
   ]
  },
  {
   "cell_type": "code",
   "execution_count": 74,
   "metadata": {},
   "outputs": [
    {
     "data": {
      "text/plain": [
       "0     12\n",
       "1      5\n",
       "2      7\n",
       "3      9\n",
       "4      5\n",
       "5     14\n",
       "6      6\n",
       "7     15\n",
       "8     10\n",
       "9      8\n",
       "10    10\n",
       "11    18\n",
       "12     3\n",
       "13    13\n",
       "14    17\n",
       "15    15\n",
       "16     4\n",
       "17     6\n",
       "18    15\n",
       "19     1\n",
       "Name: location, dtype: int64"
      ]
     },
     "execution_count": 74,
     "metadata": {},
     "output_type": "execute_result"
    }
   ],
   "source": [
    "apartments.location.head(20)"
   ]
  },
  {
   "cell_type": "code",
   "execution_count": 75,
   "metadata": {},
   "outputs": [
    {
     "data": {
      "image/png": "[encoded data removed]",
      "text/plain": [
       "<Figure size 1152x720 with 1 Axes>"
      ]
     },
     "metadata": {
      "needs_background": "light"
     },
     "output_type": "display_data"
    }
   ],
   "source": [
    "var = 'location'\n",
    "data = pd.concat([apartments['price'], apartments[var]], axis=1)\n",
    "f, ax = plt.subplots(figsize=(16, 10))\n",
    "fig = sns.boxplot(x=var, y=\"price\", data=data)\n",
    "fig.axis(ymin=0, ymax=300000);"
   ]
  },
  {
   "cell_type": "code",
   "execution_count": 76,
   "metadata": {},
   "outputs": [
    {
     "data": {
      "image/png": "[encoded data removed]",
      "text/plain": [
       "<Figure size 1008x864 with 4 Axes>"
      ]
     },
     "metadata": {
      "needs_background": "light"
     },
     "output_type": "display_data"
    }
   ],
   "source": [
    "fig, axs = plt.subplots(2,2, figsize=(14, 12))\n",
    "#plt.figure(figsize = (14, 6))\n",
    "# showing distribute of age column with .distplot() of seaborn\n",
    "sns.distplot(apartments['location'], ax=axs[0,0])\n",
    "sns.distplot(apartments['price'], color=\"skyblue\", ax=axs[0, 1])\n",
    "sns.distplot(apartments['bedrooms'], color=\"olive\", ax=axs[1, 0])\n",
    "sns.distplot(apartments['bathrooms'], color=\"gold\", ax=axs[1, 1])\n",
    "\n",
    "plt.show()\n",
    "#plt.title('Age Distribution of passengers',)"
   ]
  },
  {
   "cell_type": "code",
   "execution_count": 77,
   "metadata": {},
   "outputs": [
    {
     "data": {
      "text/html": [
       "<div>\n",
       "<style scoped>\n",
       "    .dataframe tbody tr th:only-of-type {\n",
       "        vertical-align: middle;\n",
       "    }\n",
       "\n",
       "    .dataframe tbody tr th {\n",
       "        vertical-align: top;\n",
       "    }\n",
       "\n",
       "    .dataframe thead th {\n",
       "        text-align: right;\n",
       "    }\n",
       "</style>\n",
       "<table border=\"1\" class=\"dataframe\">\n",
       "  <thead>\n",
       "    <tr style=\"text-align: right;\">\n",
       "      <th></th>\n",
       "      <th>Unnamed: 0</th>\n",
       "      <th>location</th>\n",
       "      <th>bedrooms</th>\n",
       "      <th>bathrooms</th>\n",
       "      <th>price</th>\n",
       "    </tr>\n",
       "  </thead>\n",
       "  <tbody>\n",
       "    <tr>\n",
       "      <td>count</td>\n",
       "      <td>2520.000000</td>\n",
       "      <td>2520.000000</td>\n",
       "      <td>2520.000000</td>\n",
       "      <td>2520.000000</td>\n",
       "      <td>2520.000000</td>\n",
       "    </tr>\n",
       "    <tr>\n",
       "      <td>mean</td>\n",
       "      <td>1259.500000</td>\n",
       "      <td>10.181349</td>\n",
       "      <td>2.551190</td>\n",
       "      <td>2.450794</td>\n",
       "      <td>89274.900794</td>\n",
       "    </tr>\n",
       "    <tr>\n",
       "      <td>std</td>\n",
       "      <td>727.605662</td>\n",
       "      <td>5.314415</td>\n",
       "      <td>0.922868</td>\n",
       "      <td>0.976480</td>\n",
       "      <td>63943.997415</td>\n",
       "    </tr>\n",
       "    <tr>\n",
       "      <td>min</td>\n",
       "      <td>0.000000</td>\n",
       "      <td>1.000000</td>\n",
       "      <td>1.000000</td>\n",
       "      <td>1.000000</td>\n",
       "      <td>5000.000000</td>\n",
       "    </tr>\n",
       "    <tr>\n",
       "      <td>25%</td>\n",
       "      <td>629.750000</td>\n",
       "      <td>5.000000</td>\n",
       "      <td>2.000000</td>\n",
       "      <td>2.000000</td>\n",
       "      <td>55000.000000</td>\n",
       "    </tr>\n",
       "    <tr>\n",
       "      <td>50%</td>\n",
       "      <td>1259.500000</td>\n",
       "      <td>10.000000</td>\n",
       "      <td>3.000000</td>\n",
       "      <td>2.000000</td>\n",
       "      <td>70000.000000</td>\n",
       "    </tr>\n",
       "    <tr>\n",
       "      <td>75%</td>\n",
       "      <td>1889.250000</td>\n",
       "      <td>15.000000</td>\n",
       "      <td>3.000000</td>\n",
       "      <td>3.000000</td>\n",
       "      <td>100000.000000</td>\n",
       "    </tr>\n",
       "    <tr>\n",
       "      <td>max</td>\n",
       "      <td>2519.000000</td>\n",
       "      <td>18.000000</td>\n",
       "      <td>4.000000</td>\n",
       "      <td>5.000000</td>\n",
       "      <td>300000.000000</td>\n",
       "    </tr>\n",
       "  </tbody>\n",
       "</table>\n",
       "</div>"
      ],
      "text/plain": [
       "        Unnamed: 0     location     bedrooms    bathrooms          price\n",
       "count  2520.000000  2520.000000  2520.000000  2520.000000    2520.000000\n",
       "mean   1259.500000    10.181349     2.551190     2.450794   89274.900794\n",
       "std     727.605662     5.314415     0.922868     0.976480   63943.997415\n",
       "min       0.000000     1.000000     1.000000     1.000000    5000.000000\n",
       "25%     629.750000     5.000000     2.000000     2.000000   55000.000000\n",
       "50%    1259.500000    10.000000     3.000000     2.000000   70000.000000\n",
       "75%    1889.250000    15.000000     3.000000     3.000000  100000.000000\n",
       "max    2519.000000    18.000000     4.000000     5.000000  300000.000000"
      ]
     },
     "execution_count": 77,
     "metadata": {},
     "output_type": "execute_result"
    }
   ],
   "source": [
    "apartments.describe()"
   ]
  },
  {
   "cell_type": "code",
   "execution_count": 78,
   "metadata": {},
   "outputs": [],
   "source": [
    "def log_transformer(dataframe, column):\n",
    "    dataframe[\"log_\" + column] = np.log(dataframe[column])\n",
    "    return dataframe[\"log_\" + column]"
   ]
  },
  {
   "cell_type": "code",
   "execution_count": 79,
   "metadata": {},
   "outputs": [
    {
     "data": {
      "text/plain": [
       "0       1.098612\n",
       "1       1.098612\n",
       "2       1.098612\n",
       "3       1.098612\n",
       "4       0.000000\n",
       "          ...   \n",
       "2515    1.098612\n",
       "2516    1.098612\n",
       "2517    0.693147\n",
       "2518    1.386294\n",
       "2519    0.693147\n",
       "Name: log_bedrooms, Length: 2520, dtype: float64"
      ]
     },
     "execution_count": 79,
     "metadata": {},
     "output_type": "execute_result"
    }
   ],
   "source": [
    "log_transformer(apartments, 'bedrooms')"
   ]
  },
  {
   "cell_type": "code",
   "execution_count": 80,
   "metadata": {},
   "outputs": [
    {
     "data": {
      "text/plain": [
       "0       1.098612\n",
       "1       1.386294\n",
       "2       0.693147\n",
       "3       1.098612\n",
       "4       0.000000\n",
       "          ...   \n",
       "2515    1.098612\n",
       "2516    0.693147\n",
       "2517    1.098612\n",
       "2518    1.609438\n",
       "2519    0.693147\n",
       "Name: log_bathrooms, Length: 2520, dtype: float64"
      ]
     },
     "execution_count": 80,
     "metadata": {},
     "output_type": "execute_result"
    }
   ],
   "source": [
    "log_transformer(apartments, 'bathrooms')"
   ]
  },
  {
   "cell_type": "code",
   "execution_count": 81,
   "metadata": {},
   "outputs": [
    {
     "data": {
      "text/plain": [
       "0       12.206073\n",
       "1       11.156251\n",
       "2       10.545341\n",
       "3       11.289782\n",
       "4       11.608236\n",
       "          ...    \n",
       "2515    11.225243\n",
       "2516    10.714418\n",
       "2517    11.082143\n",
       "2518    12.611538\n",
       "2519    11.512925\n",
       "Name: log_price, Length: 2520, dtype: float64"
      ]
     },
     "execution_count": 81,
     "metadata": {},
     "output_type": "execute_result"
    }
   ],
   "source": [
    "log_transformer(apartments, 'price')"
   ]
  },
  {
   "cell_type": "code",
   "execution_count": 82,
   "metadata": {},
   "outputs": [
    {
     "data": {
      "image/png": "[encoded data removed]",
      "text/plain": [
       "<Figure size 1008x864 with 4 Axes>"
      ]
     },
     "metadata": {
      "needs_background": "light"
     },
     "output_type": "display_data"
    }
   ],
   "source": [
    "fig, axs = plt.subplots(2,2, figsize=(14, 12))\n",
    "#plt.figure(figsize = (14, 6))\n",
    "# showing distribute of age column with .distplot() of seaborn\n",
    "sns.distplot(apartments['location'], ax=axs[0,0])\n",
    "sns.distplot(apartments['log_price'], color=\"skyblue\", ax=axs[0, 1])\n",
    "sns.distplot(apartments['log_bedrooms'], color=\"olive\", ax=axs[1, 0])\n",
    "sns.distplot(apartments['log_bathrooms'], color=\"gold\", ax=axs[1, 1])\n",
    "\n",
    "plt.show()\n",
    "#plt.title('Age Distribution of passengers',)"
   ]
  },
  {
   "cell_type": "code",
   "execution_count": 84,
   "metadata": {},
   "outputs": [],
   "source": [
    "dataset = apartments.drop(['Unnamed: 0','title', 'rate', 'log_bathrooms', 'log_bedrooms','log_price'], axis = 1)"
   ]
  },
  {
   "cell_type": "code",
   "execution_count": 85,
   "metadata": {},
   "outputs": [
    {
     "data": {
      "text/html": [
       "<div>\n",
       "<style scoped>\n",
       "    .dataframe tbody tr th:only-of-type {\n",
       "        vertical-align: middle;\n",
       "    }\n",
       "\n",
       "    .dataframe tbody tr th {\n",
       "        vertical-align: top;\n",
       "    }\n",
       "\n",
       "    .dataframe thead th {\n",
       "        text-align: right;\n",
       "    }\n",
       "</style>\n",
       "<table border=\"1\" class=\"dataframe\">\n",
       "  <thead>\n",
       "    <tr style=\"text-align: right;\">\n",
       "      <th></th>\n",
       "      <th>location</th>\n",
       "      <th>bedrooms</th>\n",
       "      <th>bathrooms</th>\n",
       "      <th>price</th>\n",
       "    </tr>\n",
       "  </thead>\n",
       "  <tbody>\n",
       "    <tr>\n",
       "      <td>count</td>\n",
       "      <td>2520.000000</td>\n",
       "      <td>2520.000000</td>\n",
       "      <td>2520.000000</td>\n",
       "      <td>2520.000000</td>\n",
       "    </tr>\n",
       "    <tr>\n",
       "      <td>mean</td>\n",
       "      <td>10.181349</td>\n",
       "      <td>2.551190</td>\n",
       "      <td>2.450794</td>\n",
       "      <td>89274.900794</td>\n",
       "    </tr>\n",
       "    <tr>\n",
       "      <td>std</td>\n",
       "      <td>5.314415</td>\n",
       "      <td>0.922868</td>\n",
       "      <td>0.976480</td>\n",
       "      <td>63943.997415</td>\n",
       "    </tr>\n",
       "    <tr>\n",
       "      <td>min</td>\n",
       "      <td>1.000000</td>\n",
       "      <td>1.000000</td>\n",
       "      <td>1.000000</td>\n",
       "      <td>5000.000000</td>\n",
       "    </tr>\n",
       "    <tr>\n",
       "      <td>25%</td>\n",
       "      <td>5.000000</td>\n",
       "      <td>2.000000</td>\n",
       "      <td>2.000000</td>\n",
       "      <td>55000.000000</td>\n",
       "    </tr>\n",
       "    <tr>\n",
       "      <td>50%</td>\n",
       "      <td>10.000000</td>\n",
       "      <td>3.000000</td>\n",
       "      <td>2.000000</td>\n",
       "      <td>70000.000000</td>\n",
       "    </tr>\n",
       "    <tr>\n",
       "      <td>75%</td>\n",
       "      <td>15.000000</td>\n",
       "      <td>3.000000</td>\n",
       "      <td>3.000000</td>\n",
       "      <td>100000.000000</td>\n",
       "    </tr>\n",
       "    <tr>\n",
       "      <td>max</td>\n",
       "      <td>18.000000</td>\n",
       "      <td>4.000000</td>\n",
       "      <td>5.000000</td>\n",
       "      <td>300000.000000</td>\n",
       "    </tr>\n",
       "  </tbody>\n",
       "</table>\n",
       "</div>"
      ],
      "text/plain": [
       "          location     bedrooms    bathrooms          price\n",
       "count  2520.000000  2520.000000  2520.000000    2520.000000\n",
       "mean     10.181349     2.551190     2.450794   89274.900794\n",
       "std       5.314415     0.922868     0.976480   63943.997415\n",
       "min       1.000000     1.000000     1.000000    5000.000000\n",
       "25%       5.000000     2.000000     2.000000   55000.000000\n",
       "50%      10.000000     3.000000     2.000000   70000.000000\n",
       "75%      15.000000     3.000000     3.000000  100000.000000\n",
       "max      18.000000     4.000000     5.000000  300000.000000"
      ]
     },
     "execution_count": 85,
     "metadata": {},
     "output_type": "execute_result"
    }
   ],
   "source": [
    "dataset.describe()"
   ]
  },
  {
   "cell_type": "code",
   "execution_count": 86,
   "metadata": {},
   "outputs": [],
   "source": [
    "y= dataset.price\n",
    "x= dataset.drop('price', axis=1)\n",
    "\n",
    "train_x, test_x, train_y, test_y = train_test_split(x, y,test_size=0.2, random_state=0)"
   ]
  },
  {
   "cell_type": "code",
   "execution_count": 87,
   "metadata": {},
   "outputs": [],
   "source": [
    "norm = MinMaxScaler().fit(train_x)\n",
    "\n",
    "train_x= norm.transform(train_x)\n",
    "test_x= norm.transform(test_x)\n"
   ]
  },
  {
   "cell_type": "code",
   "execution_count": 96,
   "metadata": {},
   "outputs": [],
   "source": [
    "dt = DecisionTreeRegressor()\n",
    "rf = RandomForestRegressor()\n",
    "svr = SVR()\n",
    "nb = GaussianNB()\n",
    "gbr_params = {'n_estimators': 500,\n",
    "          'max_depth': 4,\n",
    "          'min_samples_split': 5,\n",
    "          'learning_rate': 0.01,\n",
    "          'loss': 'ls',}\n",
    "\n",
    "gbr = GradientBoostingRegressor(**gbr_params)\n",
    "\n",
    "lms = [dt,rf,svm,nb,gbr]\n"
   ]
  },
  {
   "cell_type": "code",
   "execution_count": 98,
   "metadata": {},
   "outputs": [
    {
     "name": "stderr",
     "output_type": "stream",
     "text": [
      "C:\\Users\\user\\Anaconda3\\lib\\site-packages\\sklearn\\svm\\base.py:193: FutureWarning: The default value of gamma will change from 'auto' to 'scale' in version 0.22 to account better for unscaled features. Set gamma explicitly to 'auto' or 'scale' to avoid this warning.\n",
      "  \"avoid this warning.\", FutureWarning)\n"
     ]
    }
   ],
   "source": [
    "rmse= []\n",
    "for i in range(len(lms)):\n",
    "    lms[i].fit(train_x,train_y)\n",
    "    pred = lms[i].predict(test_x)\n",
    "    rmse.append(mean_squared_error(test_y,pred))"
   ]
  },
  {
   "cell_type": "code",
   "execution_count": 99,
   "metadata": {},
   "outputs": [
    {
     "data": {
      "text/html": [
       "<div>\n",
       "<style scoped>\n",
       "    .dataframe tbody tr th:only-of-type {\n",
       "        vertical-align: middle;\n",
       "    }\n",
       "\n",
       "    .dataframe tbody tr th {\n",
       "        vertical-align: top;\n",
       "    }\n",
       "\n",
       "    .dataframe thead th {\n",
       "        text-align: right;\n",
       "    }\n",
       "</style>\n",
       "<table border=\"1\" class=\"dataframe\">\n",
       "  <thead>\n",
       "    <tr style=\"text-align: right;\">\n",
       "      <th></th>\n",
       "      <th>RMSE</th>\n",
       "    </tr>\n",
       "  </thead>\n",
       "  <tbody>\n",
       "    <tr>\n",
       "      <td>dt</td>\n",
       "      <td>0.000000e+00</td>\n",
       "    </tr>\n",
       "    <tr>\n",
       "      <td>rf</td>\n",
       "      <td>0.000000e+00</td>\n",
       "    </tr>\n",
       "    <tr>\n",
       "      <td>svr</td>\n",
       "      <td>-1.691196e+07</td>\n",
       "    </tr>\n",
       "    <tr>\n",
       "      <td>nb</td>\n",
       "      <td>6.984127e+07</td>\n",
       "    </tr>\n",
       "    <tr>\n",
       "      <td>gbr</td>\n",
       "      <td>1.465810e+07</td>\n",
       "    </tr>\n",
       "  </tbody>\n",
       "</table>\n",
       "</div>"
      ],
      "text/plain": [
       "             RMSE\n",
       "dt   0.000000e+00\n",
       "rf   0.000000e+00\n",
       "svr -1.691196e+07\n",
       "nb   6.984127e+07\n",
       "gbr  1.465810e+07"
      ]
     },
     "execution_count": 99,
     "metadata": {},
     "output_type": "execute_result"
    }
   ],
   "source": [
    "mse= pd.DataFrame({'RMSE':rmse},index=['dt','rf','svr','nb','gbr'])\n",
    "mse"
   ]
  },
  {
   "cell_type": "code",
   "execution_count": 100,
   "metadata": {},
   "outputs": [],
   "source": [
    "y_pred= dt.predict(test_x)\n"
   ]
  },
  {
   "cell_type": "code",
   "execution_count": 110,
   "metadata": {},
   "outputs": [
    {
     "ename": "SyntaxError",
     "evalue": "invalid syntax (<ipython-input-110-5c14eb885db7>, line 1)",
     "output_type": "error",
     "traceback": [
      "\u001b[1;36m  File \u001b[1;32m\"<ipython-input-110-5c14eb885db7>\"\u001b[1;36m, line \u001b[1;32m1\u001b[0m\n\u001b[1;33m    final_data_1 = test_x, final_data_1['price']: 'y_pred'\u001b[0m\n\u001b[1;37m                                                ^\u001b[0m\n\u001b[1;31mSyntaxError\u001b[0m\u001b[1;31m:\u001b[0m invalid syntax\n"
     ]
    }
   ],
   "source": [
    "final_data_1 = test_x, final_data_1['price']: 'y_pred' "
   ]
  },
  {
   "cell_type": "code",
   "execution_count": null,
   "metadata": {},
   "outputs": [],
   "source": []
  }
 ],
 "metadata": {
  "kernelspec": {
   "display_name": "Python 3",
   "language": "python",
   "name": "python3"
  },
  "language_info": {
   "codemirror_mode": {
    "name": "ipython",
    "version": 3
   },
   "file_extension": ".py",
   "mimetype": "text/x-python",
   "name": "python",
   "nbconvert_exporter": "python",
   "pygments_lexer": "ipython3",
   "version": "3.7.4"
  }
 },
 "nbformat": 4,
 "nbformat_minor": 2
}
